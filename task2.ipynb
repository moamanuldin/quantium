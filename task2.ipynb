{
 "cells": [
  {
   "cell_type": "markdown",
   "metadata": {},
   "source": [
    "# Task 2"
   ]
  },
  {
   "cell_type": "markdown",
   "metadata": {},
   "source": [
    "## The Control stores are 77, 86, and 88"
   ]
  },
  {
   "cell_type": "code",
   "execution_count": null,
   "metadata": {},
   "outputs": [],
   "source": [
    "import pandas as pd\n",
    "import numpy as np"
   ]
  },
  {
   "cell_type": "code",
   "execution_count": null,
   "metadata": {},
   "outputs": [],
   "source": [
    "task_2_df = pd.read_csv(\"sales_behavior.csv\", index_col=0)"
   ]
  },
  {
   "cell_type": "code",
   "execution_count": null,
   "metadata": {},
   "outputs": [
    {
     "name": "stdout",
     "output_type": "stream",
     "text": [
      "[77, 86, 88, 46, 205, 220, 50, 62, 172, 102, 67, 165, 237, 40, 58]\n"
     ]
    }
   ],
   "source": [
    "# Group by STORE_NBR and sum the TOT_SALES\n",
    "sales_by_store = task_2_df.groupby('STORE_NBR')['TOT_SALES'].sum()\n",
    "\n",
    "# Sort the sales by store in descending order\n",
    "sales_by_store_sorted = sales_by_store.sort_values(ascending=False)\n",
    "\n",
    "# Target stores\n",
    "target_stores = [77, 86, 88]\n",
    "closest_stores = {}\n",
    "\n",
    "# Find the four closest stores in total sales for each target store\n",
    "for target in target_stores:\n",
    "    # Calculate the absolute difference between target and all other stores\n",
    "    differences = (sales_by_store_sorted - sales_by_store_sorted.loc[target]).abs()\n",
    "    \n",
    "    # Sort by the smallest difference and exclude the target store itself\n",
    "    closest_stores_for_target = differences[differences.index != target].nsmallest(4).index\n",
    "    closest_stores[target] = list(closest_stores_for_target)\n",
    "\n",
    "# Combine target stores and their closest stores into a single list\n",
    "control_stores = target_stores + [store for sublist in closest_stores.values() for store in sublist]\n",
    "\n",
    "# Output the closest stores\n",
    "print(control_stores)\n"
   ]
  },
  {
   "cell_type": "code",
   "execution_count": null,
   "metadata": {},
   "outputs": [
    {
     "name": "stdout",
     "output_type": "stream",
     "text": [
      "Stores with high variability in sales over time: [77, 46, 205, 220, 50, 62, 172, 102, 67]\n"
     ]
    }
   ],
   "source": [
    "# Calculate the coefficient of variation (CV) for each store in control_stores\n",
    "cv_by_store = sales_by_date_store[control_stores].std() / sales_by_date_store[control_stores].mean()\n",
    "\n",
    "# Define a threshold for high variability (e.g., CV > 0.5)\n",
    "high_variability_threshold = 0.5\n",
    "\n",
    "# Identify stores with high variability\n",
    "stores_with_high_variability = cv_by_store[cv_by_store > high_variability_threshold].index.tolist()\n",
    "\n",
    "# Output the stores with high variability\n",
    "print(\"Stores with high variability in sales over time:\", stores_with_high_variability)"
   ]
  },
  {
   "cell_type": "code",
   "execution_count": null,
   "metadata": {},
   "outputs": [
    {
     "name": "stdout",
     "output_type": "stream",
     "text": [
      "Filtered control stores: [86, 88, 165, 237, 40, 58]\n"
     ]
    }
   ],
   "source": [
    "# Drop stores with high variability from control_stores\n",
    "filtered_control_stores = [store for store in control_stores if store not in stores_with_high_variability]\n",
    "\n",
    "# Output the filtered control stores\n",
    "print(\"Filtered control stores:\", filtered_control_stores)"
   ]
  }
 ],
 "metadata": {
  "language_info": {
   "name": "python"
  }
 },
 "nbformat": 4,
 "nbformat_minor": 2
}
